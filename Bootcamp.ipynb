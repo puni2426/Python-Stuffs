{
  "nbformat": 4,
  "nbformat_minor": 0,
  "metadata": {
    "colab": {
      "name": "Bootcamp.ipynb",
      "provenance": [],
      "collapsed_sections": [],
      "authorship_tag": "ABX9TyPPTC51yyAGCZt01VTN8XPO"
    },
    "kernelspec": {
      "name": "python3",
      "display_name": "Python 3"
    },
    "language_info": {
      "name": "python"
    }
  },
  "cells": [
    {
      "cell_type": "markdown",
      "metadata": {
        "id": "RGlyrGnZ-cC8"
      },
      "source": [
        "__Armstrong Number or Not__"
      ]
    },
    {
      "cell_type": "code",
      "metadata": {
        "colab": {
          "base_uri": "https://localhost:8080/"
        },
        "id": "8nlqGuKckqM_",
        "outputId": "32be1007-5c0e-4ab8-aac9-e379e1432b9e"
      },
      "source": [
        "number = int(input(\"Enter the number : \"))\n",
        "result = 0\n",
        "n = 0\n",
        "temp = number;\n",
        "while (temp != 0):\n",
        "    temp =int(temp / 10)\n",
        "    n = n + 1\n",
        "\n",
        "temp = number\n",
        "while (temp != 0):\n",
        "    remainder = temp % 10\n",
        "    result = result + pow(remainder, n)\n",
        "    temp = int(temp/10)\n",
        "if(result == number):\n",
        "    print(\"Armstrong number\")\n",
        "else:\n",
        "    print(\"Not an Armstrong number\")"
      ],
      "execution_count": null,
      "outputs": [
        {
          "output_type": "stream",
          "name": "stdout",
          "text": [
            "Enter the number : 140\n",
            "Not an Armstrong number\n"
          ]
        }
      ]
    },
    {
      "cell_type": "markdown",
      "metadata": {
        "id": "95V23lNdxxX8"
      },
      "source": [
        "__Conversion from Decimal to other__"
      ]
    },
    {
      "cell_type": "code",
      "metadata": {
        "colab": {
          "base_uri": "https://localhost:8080/"
        },
        "id": "_Kx2j7TAxLLn",
        "outputId": "07f2ee1c-2401-47f8-89ff-89d78558b7d3"
      },
      "source": [
        "n=int(input())\n",
        "print(bin(n))\n",
        "print(oct(n))\n",
        "print(hex(n))"
      ],
      "execution_count": null,
      "outputs": [
        {
          "output_type": "stream",
          "name": "stdout",
          "text": [
            "6\n",
            "0b110\n",
            "0o6\n",
            "0x6\n"
          ]
        }
      ]
    },
    {
      "cell_type": "markdown",
      "metadata": {
        "id": "CinUw4bw4AAV"
      },
      "source": [
        "search a pattern which contains 'a' followed by 'b'"
      ]
    },
    {
      "cell_type": "code",
      "metadata": {
        "colab": {
          "base_uri": "https://localhost:8080/"
        },
        "id": "5v4IOiz44GeC",
        "outputId": "56de71ff-4098-4907-ee96-c01c12d47b99"
      },
      "source": [
        "import re\n",
        "s=input()\n",
        "p=\"ab+\"\n",
        "z=re.match(p,s)\n",
        "if z:\n",
        "  print(s)\n",
        "else:\n",
        "  print(\"Not matched\")\n",
        "\n"
      ],
      "execution_count": null,
      "outputs": [
        {
          "output_type": "stream",
          "name": "stdout",
          "text": [
            "abb\n",
            "abb\n"
          ]
        }
      ]
    },
    {
      "cell_type": "markdown",
      "metadata": {
        "id": "9lEXeMWZ5qV7"
      },
      "source": [
        "pattern start with a followed by 0 or more occurence of b"
      ]
    },
    {
      "cell_type": "code",
      "metadata": {
        "colab": {
          "base_uri": "https://localhost:8080/"
        },
        "id": "4s9PB2lp70g0",
        "outputId": "8a1ea7c8-8bd7-4944-8dcf-7cb021a4ff3a"
      },
      "source": [
        "import re\n",
        "s=input()\n",
        "p=\"ab*\"\n",
        "z=re.match(p,s)\n",
        "if z:\n",
        "  print(s)\n",
        "else:\n",
        "  print(\"Not matched\")\n",
        "\n"
      ],
      "execution_count": null,
      "outputs": [
        {
          "output_type": "stream",
          "name": "stdout",
          "text": [
            "abb\n",
            "abb\n"
          ]
        }
      ]
    },
    {
      "cell_type": "markdown",
      "metadata": {
        "id": "4JW9HC2V50Gb"
      },
      "source": [
        "start with b followed by 0 or 1 occurence of a"
      ]
    },
    {
      "cell_type": "code",
      "metadata": {
        "colab": {
          "base_uri": "https://localhost:8080/"
        },
        "id": "R1Jekxb9GxiD",
        "outputId": "d21e6a04-bc77-4883-f1d0-15dce04942c0"
      },
      "source": [
        "import re\n",
        "s=input()\n",
        "p=\"ba*\"\n",
        "z=re.match(p,s)\n",
        "if z:\n",
        "  print(s)\n",
        "else:\n",
        "  print(\"Not matched\")\n",
        "\n"
      ],
      "execution_count": null,
      "outputs": [
        {
          "output_type": "stream",
          "name": "stdout",
          "text": [
            "ba\n",
            "ba\n"
          ]
        }
      ]
    },
    {
      "cell_type": "markdown",
      "metadata": {
        "id": "3PjBTcYp570k"
      },
      "source": [
        "pattern that start with e followed by 2 or more occurence of x"
      ]
    },
    {
      "cell_type": "code",
      "metadata": {
        "colab": {
          "base_uri": "https://localhost:8080/"
        },
        "id": "9rUVdumbG5f7",
        "outputId": "ce393b89-3399-44d3-9c18-8f9f63a4167a"
      },
      "source": [
        "import re\n",
        "s=input()\n",
        "p=\"ex{2,}\"\n",
        "z=re.match(p,s)\n",
        "if z:\n",
        "  print(s)\n",
        "else:\n",
        "  print(\"Not matched\")\n",
        "\n"
      ],
      "execution_count": null,
      "outputs": [
        {
          "output_type": "stream",
          "name": "stdout",
          "text": [
            "exxx\n",
            "exxx\n"
          ]
        }
      ]
    },
    {
      "cell_type": "markdown",
      "metadata": {
        "id": "TL4qwfnA6DYM"
      },
      "source": [
        "Pattern that contains only digit"
      ]
    },
    {
      "cell_type": "code",
      "metadata": {
        "colab": {
          "base_uri": "https://localhost:8080/"
        },
        "id": "vywZgUEIHFUj",
        "outputId": "f93eeb8e-37c8-4b37-b2e4-2224e94446d8"
      },
      "source": [
        "import re\n",
        "s=input()\n",
        "p=\"\\d*\"\n",
        "x=re.findall(p,s)\n",
        "print(x)"
      ],
      "execution_count": null,
      "outputs": [
        {
          "output_type": "stream",
          "name": "stdout",
          "text": [
            "656\n",
            "['656', '']\n"
          ]
        }
      ]
    },
    {
      "cell_type": "markdown",
      "metadata": {
        "id": "dgSQhnVK6JRE"
      },
      "source": [
        "pattern to find date"
      ]
    },
    {
      "cell_type": "code",
      "metadata": {
        "colab": {
          "base_uri": "https://localhost:8080/"
        },
        "id": "BZesMd32HVe7",
        "outputId": "d4e0e52a-889e-4fce-eba2-55ab69f53930"
      },
      "source": [
        "import re\n",
        "s=input()\n",
        "p=\"[0][1-9]-[0][1-9]-\\d{4}\\\"\n",
        "x=re.findall(p,s)\n",
        "print(x)"
      ],
      "execution_count": null,
      "outputs": [
        {
          "output_type": "stream",
          "name": "stdout",
          "text": [
            "12-09-2001\n",
            "['12-09-2001']\n"
          ]
        }
      ]
    },
    {
      "cell_type": "markdown",
      "metadata": {
        "id": "iG92mTO8bt-q"
      },
      "source": [
        "__BASICS__"
      ]
    },
    {
      "cell_type": "code",
      "metadata": {
        "colab": {
          "base_uri": "https://localhost:8080/"
        },
        "id": "dI0qbk47bl1J",
        "outputId": "ad77aea8-1d35-4270-cd1e-3c5cc32064ad"
      },
      "source": [
        "age = int(input())\n",
        "if age<18:\n",
        "  print(\"Not Eligible for Vote\")\n",
        "else:\n",
        "  print(\"Eligible for Vote\")"
      ],
      "execution_count": null,
      "outputs": [
        {
          "output_type": "stream",
          "name": "stdout",
          "text": [
            "20\n",
            "Eligible for Vote\n"
          ]
        }
      ]
    },
    {
      "cell_type": "code",
      "metadata": {
        "colab": {
          "base_uri": "https://localhost:8080/"
        },
        "id": "4KECuLYBdZho",
        "outputId": "62e04512-b5f4-4050-8894-06f9f2e8384e"
      },
      "source": [
        "n=int(input())\n",
        "if n>=0 and n<10:\n",
        "  print(\"it is in range 0 to 10\")\n",
        "if n>=10 and n<20:\n",
        "  print(\"it is in range 10 to 20\")\n"
      ],
      "execution_count": null,
      "outputs": [
        {
          "output_type": "stream",
          "name": "stdout",
          "text": [
            "13\n",
            "it is in range 10 to 20\n"
          ]
        }
      ]
    },
    {
      "cell_type": "code",
      "metadata": {
        "colab": {
          "base_uri": "https://localhost:8080/"
        },
        "id": "BAIaM_nFeegP",
        "outputId": "fa842182-6920-431d-d66e-80ce72aa1f5b"
      },
      "source": [
        "n=int(input())\n",
        "if n>=0 and n<10:\n",
        "  print(\"it is in range 0 to 10\")\n",
        "else:\n",
        "  print(\"it is positive or negative\")\n"
      ],
      "execution_count": null,
      "outputs": [
        {
          "output_type": "stream",
          "name": "stdout",
          "text": [
            "36\n",
            "it is positive or negative\n"
          ]
        }
      ]
    },
    {
      "cell_type": "code",
      "metadata": {
        "colab": {
          "base_uri": "https://localhost:8080/"
        },
        "id": "QrRmV5m7gwqn",
        "outputId": "73df7f1e-5bfa-46f3-b5dd-9a883ab3c1b9"
      },
      "source": [
        "for puni in \"Hellp\":\n",
        " pass\n",
        "print(\"pass:\",puni)"
      ],
      "execution_count": null,
      "outputs": [
        {
          "output_type": "stream",
          "name": "stdout",
          "text": [
            "pass: p\n"
          ]
        }
      ]
    },
    {
      "cell_type": "code",
      "metadata": {
        "colab": {
          "base_uri": "https://localhost:8080/"
        },
        "id": "lo-LRoonk2hg",
        "outputId": "f2a0b669-a841-49e7-8346-68b13ffaa47a"
      },
      "source": [
        "t=(1,2,3)\n",
        "t+=(4,)\n",
        "print(t)\n",
        "print(t*2)\n",
        "print(t+t)"
      ],
      "execution_count": null,
      "outputs": [
        {
          "output_type": "stream",
          "name": "stdout",
          "text": [
            "(1, 2, 3, 4)\n",
            "(1, 2, 3, 4, 1, 2, 3, 4)\n",
            "(1, 2, 3, 4, 1, 2, 3, 4)\n"
          ]
        }
      ]
    },
    {
      "cell_type": "code",
      "metadata": {
        "colab": {
          "base_uri": "https://localhost:8080/"
        },
        "id": "kj_0vg_ilK3H",
        "outputId": "e696248e-abd9-4e8b-a420-2f8ec0f742c2"
      },
      "source": [
        "t=(1,2,4,5,6)\n",
        "t=t[:2]+(3,)+t[3:]\n",
        "print(t)"
      ],
      "execution_count": null,
      "outputs": [
        {
          "output_type": "stream",
          "name": "stdout",
          "text": [
            "(1, 2, 3, 5, 6)\n"
          ]
        }
      ]
    },
    {
      "cell_type": "code",
      "metadata": {
        "colab": {
          "base_uri": "https://localhost:8080/"
        },
        "id": "l4ypgLwVnzVg",
        "outputId": "f7795d78-9014-4ac8-ba90-62a104857531"
      },
      "source": [
        "t=(1,2,4,5,6)\n",
        "t=t[:2]+(3,)+t[2:]\n",
        "print(t)"
      ],
      "execution_count": null,
      "outputs": [
        {
          "output_type": "stream",
          "name": "stdout",
          "text": [
            "(1, 2, 3, 4, 5, 6)\n"
          ]
        }
      ]
    },
    {
      "cell_type": "markdown",
      "metadata": {
        "id": "XmI0Ks9XnD7h"
      },
      "source": [
        "write a program to determine the character enter by the user"
      ]
    },
    {
      "cell_type": "code",
      "metadata": {
        "colab": {
          "base_uri": "https://localhost:8080/"
        },
        "id": "7LvzrGHvnNL3",
        "outputId": "4520f0c4-e559-4295-c2d2-0edeeb6ca462"
      },
      "source": [
        "s=input()\n",
        "for i in s:\n",
        "  if i.isdigit():\n",
        "    print(\"Digit\")\n",
        "  elif i.isalpha():\n",
        "    print(\"Character\")\n",
        "  else:\n",
        "    print(\"Special Character\")"
      ],
      "execution_count": null,
      "outputs": [
        {
          "output_type": "stream",
          "name": "stdout",
          "text": [
            "!\n",
            "Special Character\n"
          ]
        }
      ]
    },
    {
      "cell_type": "markdown",
      "metadata": {
        "id": "NhO1xD8YonlI"
      },
      "source": [
        "write a program to convert upper to lower and vise versa"
      ]
    },
    {
      "cell_type": "code",
      "metadata": {
        "colab": {
          "base_uri": "https://localhost:8080/"
        },
        "id": "uWsCWJ62om3P",
        "outputId": "1575bce0-1ad6-4971-bf4e-e9fd1b55a0b2"
      },
      "source": [
        "s=\"Hello\"\n",
        "print(s.swapcase())"
      ],
      "execution_count": null,
      "outputs": [
        {
          "output_type": "stream",
          "name": "stdout",
          "text": [
            "hELLO\n"
          ]
        }
      ]
    },
    {
      "cell_type": "markdown",
      "metadata": {
        "id": "qnEI3Je6pvI3"
      },
      "source": [
        "Leap year or Not"
      ]
    },
    {
      "cell_type": "code",
      "metadata": {
        "colab": {
          "base_uri": "https://localhost:8080/"
        },
        "id": "TjS58zvUps-Y",
        "outputId": "d8597baa-387e-48a8-b23d-8618893b0ae0"
      },
      "source": [
        "year=int(input())\n",
        "if (year%4==0 and year%100!=0) or year%400==0:\n",
        "  print(\"Leap year\")\n",
        "else:\n",
        "  print(\"Not a Leap year\")"
      ],
      "execution_count": null,
      "outputs": [
        {
          "output_type": "stream",
          "name": "stdout",
          "text": [
            "2100\n",
            "Not a Leap year\n"
          ]
        }
      ]
    },
    {
      "cell_type": "markdown",
      "metadata": {
        "id": "K3X58Uporam3"
      },
      "source": [
        "reverse a number\n"
      ]
    },
    {
      "cell_type": "code",
      "metadata": {
        "id": "715UNWmprdd_"
      },
      "source": [
        "n=int(input())\n",
        "s=0\n",
        "while (n!=0):\n",
        "  rem=n%10\n",
        "  s =( s*10) + rem\n",
        "  n-n//10\n",
        "print(s)\n"
      ],
      "execution_count": null,
      "outputs": []
    },
    {
      "cell_type": "markdown",
      "metadata": {
        "id": "DVUOgPb7riff"
      },
      "source": [
        "Swap a number"
      ]
    },
    {
      "cell_type": "code",
      "metadata": {
        "colab": {
          "base_uri": "https://localhost:8080/"
        },
        "id": "BWbanEB7rhwo",
        "outputId": "25730523-0a59-43c4-f251-6aed06871282"
      },
      "source": [
        "a=10\n",
        "b=20\n",
        "a,b=b,a\n",
        "print(a,b)"
      ],
      "execution_count": null,
      "outputs": [
        {
          "output_type": "stream",
          "name": "stdout",
          "text": [
            "20 10\n"
          ]
        }
      ]
    },
    {
      "cell_type": "markdown",
      "metadata": {
        "id": "8WXMXP_Rt9u_"
      },
      "source": [
        "Pattern Printing"
      ]
    },
    {
      "cell_type": "code",
      "metadata": {
        "colab": {
          "base_uri": "https://localhost:8080/"
        },
        "id": "gHK8BXEouAi2",
        "outputId": "b5f4f9a5-db98-4e16-9fda-296565629549"
      },
      "source": [
        "def part(n):\n",
        "\tmyList = []\n",
        "\tfor i in range(1,n+1):\n",
        "\t\tmyList.append(\"*\"*i)\n",
        "\tprint(\"\\n\".join(myList))\n",
        "\n",
        "\n",
        "n = int(input())\n",
        "part(n)\n"
      ],
      "execution_count": null,
      "outputs": [
        {
          "output_type": "stream",
          "name": "stdout",
          "text": [
            "5\n",
            "*\n",
            "**\n",
            "***\n",
            "****\n",
            "*****\n"
          ]
        }
      ]
    },
    {
      "cell_type": "code",
      "metadata": {
        "colab": {
          "base_uri": "https://localhost:8080/"
        },
        "id": "eHaEc_RfvbKe",
        "outputId": "2bc3ee4c-6315-4549-8df1-4988602fc1ce"
      },
      "source": [
        "n=int(input())\n",
        "for i in range(0,n+1):\n",
        "  for j in range(1,i+1):\n",
        "    print(\"*\" ,end=\"\")\n",
        "  print(\" \")\n",
        "  "
      ],
      "execution_count": null,
      "outputs": [
        {
          "output_type": "stream",
          "name": "stdout",
          "text": [
            "6\n",
            " \n",
            "* \n",
            "** \n",
            "*** \n",
            "**** \n",
            "***** \n",
            "****** \n"
          ]
        }
      ]
    },
    {
      "cell_type": "code",
      "metadata": {
        "id": "-jTe_3fHyXm3",
        "colab": {
          "base_uri": "https://localhost:8080/"
        },
        "outputId": "5c18f09c-a55f-4ef9-c83a-45e57fb662db"
      },
      "source": [
        "n=int(input())\n",
        "for i in range(1,n+1):\n",
        "  for j in range(1,i+1):\n",
        "    print(i ,end=\"\")\n",
        "  print(\" \")\n",
        "  "
      ],
      "execution_count": null,
      "outputs": [
        {
          "output_type": "stream",
          "name": "stdout",
          "text": [
            "5\n",
            "1 \n",
            "22 \n",
            "333 \n",
            "4444 \n",
            "55555 \n"
          ]
        }
      ]
    },
    {
      "cell_type": "code",
      "metadata": {
        "colab": {
          "base_uri": "https://localhost:8080/"
        },
        "id": "2sJoo9UezBSn",
        "outputId": "e294e929-fde4-4675-fc8f-1fc4d56cbe6c"
      },
      "source": [
        "n=int(input())\n",
        "for i in range(0,n+1):\n",
        "  for j in range(1,i+1):\n",
        "    print(j,end=\"\")\n",
        "  print(\" \")\n",
        "  "
      ],
      "execution_count": null,
      "outputs": [
        {
          "output_type": "stream",
          "name": "stdout",
          "text": [
            "5\n",
            " \n",
            "1 \n",
            "12 \n",
            "123 \n",
            "1234 \n",
            "12345 \n"
          ]
        }
      ]
    },
    {
      "cell_type": "markdown",
      "metadata": {
        "id": "MVgJxUWWhAyY"
      },
      "source": [
        "Date"
      ]
    },
    {
      "cell_type": "code",
      "metadata": {
        "colab": {
          "base_uri": "https://localhost:8080/"
        },
        "id": "UtsH2qyohC44",
        "outputId": "b7d2028e-3031-40ab-e471-1c65b9f141a3"
      },
      "source": [
        "import re\n",
        "s=input()\n",
        "p=\"^(0?[1-9]|[1-2][0-9]|3[0-1])[\\/\\-](0?[1-9]|1[0-2])[\\/\\-](\\d{4})$\"\n",
        "x=re.findall(p,s)\n",
        "print(x)"
      ],
      "execution_count": null,
      "outputs": [
        {
          "output_type": "stream",
          "name": "stdout",
          "text": [
            "12-2-2000\n",
            "[('12', '2', '2000')]\n"
          ]
        }
      ]
    },
    {
      "cell_type": "markdown",
      "metadata": {
        "id": "7KsKrywWoPOu"
      },
      "source": [
        "write a python program to open a file in read mode and read the content of the file"
      ]
    },
    {
      "cell_type": "code",
      "metadata": {
        "id": "Kejpw1v9oafY"
      },
      "source": [
        "f=open(\"Bootcamp.ipynb\",\"r\")\n",
        "f.readline()\n",
        "f.close()\n"
      ],
      "execution_count": null,
      "outputs": []
    },
    {
      "cell_type": "markdown",
      "metadata": {
        "id": "jlmE3X9cqarf"
      },
      "source": [
        "write a python prpgram to read the content from the line"
      ]
    },
    {
      "cell_type": "code",
      "metadata": {
        "id": "8YJaHzaQqrD-"
      },
      "source": [
        "f=open(\"a.txt\",\"r\")\n",
        "s=int(input())\n",
        "for i in f:\n",
        "  if i!=s:\n",
        "    continue\n",
        "  else:\n",
        "    f.readline()\n",
        "    break\n",
        "f.close()\n"
      ],
      "execution_count": null,
      "outputs": []
    },
    {
      "cell_type": "markdown",
      "metadata": {
        "id": "TDTtM6yJtu4O"
      },
      "source": [
        "write a program to copy the content from two files into single file\n"
      ]
    },
    {
      "cell_type": "markdown",
      "metadata": {
        "id": "x_Iv5cpN8Lc1"
      },
      "source": [
        "__BASICS__"
      ]
    },
    {
      "cell_type": "code",
      "metadata": {
        "colab": {
          "base_uri": "https://localhost:8080/"
        },
        "id": "M4tEnMGj8RQG",
        "outputId": "69548ee0-fb13-4a7b-dfe0-7ef8915d5f38"
      },
      "source": [
        "   l=[1,2,3]\n",
        "   print(l)                   "
      ],
      "execution_count": null,
      "outputs": [
        {
          "output_type": "stream",
          "name": "stdout",
          "text": [
            "[1, 2, 3]\n"
          ]
        }
      ]
    },
    {
      "cell_type": "code",
      "metadata": {
        "colab": {
          "base_uri": "https://localhost:8080/"
        },
        "id": "SP7q3Z9v9MdG",
        "outputId": "7eae3603-926f-4499-db4f-72f3e03b2b82"
      },
      "source": [
        "   l=[1,2,3]\n",
        "   print(l[0])                   "
      ],
      "execution_count": null,
      "outputs": [
        {
          "output_type": "stream",
          "name": "stdout",
          "text": [
            "1\n"
          ]
        }
      ]
    },
    {
      "cell_type": "code",
      "metadata": {
        "colab": {
          "base_uri": "https://localhost:8080/"
        },
        "id": "xpCzvYY99Tk0",
        "outputId": "d631b0bd-de43-44b4-ccff-78cf57f1a90d"
      },
      "source": [
        "   l=[1,2,3]\n",
        "   l.append(4)\n",
        "   print(l)                   "
      ],
      "execution_count": null,
      "outputs": [
        {
          "output_type": "stream",
          "name": "stdout",
          "text": [
            "[1, 2, 3, 4]\n"
          ]
        }
      ]
    },
    {
      "cell_type": "code",
      "metadata": {
        "colab": {
          "base_uri": "https://localhost:8080/"
        },
        "id": "PaHop3hg9fgE",
        "outputId": "a637a422-b091-48ba-df8b-e371bf9f401d"
      },
      "source": [
        "   l=[1,2,3]\n",
        "   l.insert(1,4)\n",
        "   print(l)                   "
      ],
      "execution_count": null,
      "outputs": [
        {
          "output_type": "stream",
          "name": "stdout",
          "text": [
            "[1, 4, 2, 3]\n"
          ]
        }
      ]
    },
    {
      "cell_type": "code",
      "metadata": {
        "colab": {
          "base_uri": "https://localhost:8080/"
        },
        "id": "s7MReOp3Ef7V",
        "outputId": "84f57200-c619-474f-8fd4-bae9b1fab50a"
      },
      "source": [
        "   l=[1,2,3]\n",
        "   l.reverse()\n",
        "   print(l)                   "
      ],
      "execution_count": null,
      "outputs": [
        {
          "output_type": "stream",
          "name": "stdout",
          "text": [
            "[3, 2, 1]\n"
          ]
        }
      ]
    },
    {
      "cell_type": "code",
      "metadata": {
        "colab": {
          "base_uri": "https://localhost:8080/"
        },
        "id": "Cl09DQizEulc",
        "outputId": "9f1a2723-5d1c-45ea-82f2-62b85d15cbfe"
      },
      "source": [
        "   l=[1,3,2]\n",
        "   l.sort()\n",
        "   print(l)                  "
      ],
      "execution_count": null,
      "outputs": [
        {
          "output_type": "stream",
          "name": "stdout",
          "text": [
            "[1, 2, 3]\n"
          ]
        }
      ]
    },
    {
      "cell_type": "code",
      "metadata": {
        "colab": {
          "base_uri": "https://localhost:8080/"
        },
        "id": "BM32tHF29mc8",
        "outputId": "928d0b36-2902-4416-f68d-957ca2455cfd"
      },
      "source": [
        "   l=[1,2,3]\n",
        "   del(l[2])\n",
        "   print(l)                   "
      ],
      "execution_count": null,
      "outputs": [
        {
          "output_type": "stream",
          "name": "stdout",
          "text": [
            "[1, 2]\n"
          ]
        }
      ]
    },
    {
      "cell_type": "code",
      "metadata": {
        "colab": {
          "base_uri": "https://localhost:8080/"
        },
        "id": "deexOMMH98bM",
        "outputId": "c579f642-006d-46bc-a9fb-d556b4fc77ee"
      },
      "source": [
        "   l=[1,2,3]\n",
        "   l+=[4,5,6]\n",
        "   print(l)                   "
      ],
      "execution_count": null,
      "outputs": [
        {
          "output_type": "stream",
          "name": "stdout",
          "text": [
            "[1, 2, 3, 4, 5, 6]\n"
          ]
        }
      ]
    },
    {
      "cell_type": "code",
      "metadata": {
        "colab": {
          "base_uri": "https://localhost:8080/"
        },
        "id": "n8FyC9kl-b3M",
        "outputId": "5c61ac02-5eec-4dbb-a460-1636d0cfc00d"
      },
      "source": [
        "   l=[1,2,3]\n",
        "   l.remove(3)\n",
        "   print(l)                 "
      ],
      "execution_count": null,
      "outputs": [
        {
          "output_type": "stream",
          "name": "stdout",
          "text": [
            "[1, 2]\n"
          ]
        }
      ]
    },
    {
      "cell_type": "code",
      "metadata": {
        "colab": {
          "base_uri": "https://localhost:8080/"
        },
        "id": "oi_nsgvbF669",
        "outputId": "72ae1935-2d71-4590-cb12-d2354ff5c03d"
      },
      "source": [
        "   l=[1,2,3]\n",
        "   l.pop()\n",
        "   print(l)                   "
      ],
      "execution_count": null,
      "outputs": [
        {
          "output_type": "stream",
          "name": "stdout",
          "text": [
            "[1, 2]\n"
          ]
        }
      ]
    },
    {
      "cell_type": "code",
      "metadata": {
        "colab": {
          "base_uri": "https://localhost:8080/"
        },
        "id": "sERc-SDJGFtd",
        "outputId": "e6a63dfd-7d79-40ea-db84-edd37add2bc6"
      },
      "source": [
        "   l=[1,2,3]\n",
        "   l.pop(0)\n",
        "   print(l)                   "
      ],
      "execution_count": null,
      "outputs": [
        {
          "output_type": "stream",
          "name": "stdout",
          "text": [
            "[2, 3]\n"
          ]
        }
      ]
    },
    {
      "cell_type": "code",
      "metadata": {
        "colab": {
          "base_uri": "https://localhost:8080/"
        },
        "id": "_Og7sOqJ-8r0",
        "outputId": "d9aa1133-3c39-4d97-da82-35acefde0c42"
      },
      "source": [
        "l=[1,2,3]\n",
        "for i in range(0,len(l)):\n",
        "  print(i,l[i])                 "
      ],
      "execution_count": null,
      "outputs": [
        {
          "output_type": "stream",
          "name": "stdout",
          "text": [
            "0 1\n",
            "1 2\n",
            "2 3\n"
          ]
        }
      ]
    },
    {
      "cell_type": "code",
      "metadata": {
        "colab": {
          "base_uri": "https://localhost:8080/"
        },
        "id": "qJRXpKJg_5t9",
        "outputId": "ce7d042f-c440-4068-af60-13d6958f6e9e"
      },
      "source": [
        "l=[1,2,3]\n",
        "k=[]\n",
        "k=l\n",
        "print(l,k)"
      ],
      "execution_count": null,
      "outputs": [
        {
          "output_type": "stream",
          "name": "stdout",
          "text": [
            "[1, 2, 3] [1, 2, 3]\n"
          ]
        }
      ]
    },
    {
      "cell_type": "code",
      "metadata": {
        "colab": {
          "base_uri": "https://localhost:8080/"
        },
        "id": "kZDl9kAqB0Jr",
        "outputId": "67475c0d-f326-4676-a344-c9791f952a92"
      },
      "source": [
        "print(\"Hello\"*2)"
      ],
      "execution_count": null,
      "outputs": [
        {
          "output_type": "stream",
          "name": "stdout",
          "text": [
            "HelloHello\n"
          ]
        }
      ]
    },
    {
      "cell_type": "code",
      "metadata": {
        "colab": {
          "base_uri": "https://localhost:8080/"
        },
        "id": "0TnN1XiQB81j",
        "outputId": "d075efb7-2c13-46ed-f656-d7efb1681c7f"
      },
      "source": [
        "print(\"Hello\",3)"
      ],
      "execution_count": null,
      "outputs": [
        {
          "output_type": "stream",
          "name": "stdout",
          "text": [
            "Hello 3\n"
          ]
        }
      ]
    },
    {
      "cell_type": "code",
      "metadata": {
        "colab": {
          "base_uri": "https://localhost:8080/"
        },
        "id": "S3k2z5p4CNab",
        "outputId": "9a9240b3-2374-4475-bc09-eb0ef7144993"
      },
      "source": [
        "n=int(input())\n",
        "a=65\n",
        "for i in range(0,n+1):\n",
        "  for j in range(1,i+1):\n",
        "    print(chr(a),end=\"\")\n",
        "    a+=1\n",
        "  print(\" \")\n",
        "  "
      ],
      "execution_count": null,
      "outputs": [
        {
          "output_type": "stream",
          "name": "stdout",
          "text": [
            "5\n",
            " \n",
            "A \n",
            "BC \n",
            "DEF \n",
            "GHIJ \n",
            "KLMNO \n"
          ]
        }
      ]
    },
    {
      "cell_type": "code",
      "metadata": {
        "colab": {
          "base_uri": "https://localhost:8080/"
        },
        "id": "2IVlr01pD4B9",
        "outputId": "3a8019c5-5469-416b-9cd0-14a3f8317250"
      },
      "source": [
        "n=int(input())\n",
        "\n",
        "for i in range(0,n+1):\n",
        "  a=65\n",
        "  for j in range(1,i+1):\n",
        "    print(chr(a),end=\"\")\n",
        "    a+=1\n",
        "  print(\" \")\n",
        "  "
      ],
      "execution_count": null,
      "outputs": [
        {
          "output_type": "stream",
          "name": "stdout",
          "text": [
            "5\n",
            " \n",
            "A \n",
            "AB \n",
            "ABC \n",
            "ABCD \n",
            "ABCDE \n"
          ]
        }
      ]
    },
    {
      "cell_type": "code",
      "metadata": {
        "colab": {
          "base_uri": "https://localhost:8080/"
        },
        "id": "70kP5byaD_Yc",
        "outputId": "c8b4536b-cffa-4a79-ccd8-7a5a1107bf1f"
      },
      "source": [
        "n=int(input())\n",
        "a=64\n",
        "for i in range(0,n+1):\n",
        "  for j in range(1,i+1):\n",
        "    print(chr(a),end=\"\")\n",
        "  a+=1\n",
        "  print(\" \")\n",
        "  "
      ],
      "execution_count": null,
      "outputs": [
        {
          "output_type": "stream",
          "name": "stdout",
          "text": [
            "5\n",
            " \n",
            "A \n",
            "BB \n",
            "CCC \n",
            "DDDD \n",
            "EEEEE \n"
          ]
        }
      ]
    },
    {
      "cell_type": "code",
      "metadata": {
        "colab": {
          "base_uri": "https://localhost:8080/"
        },
        "id": "YSaGL-R0GqqF",
        "outputId": "85f8ee71-434a-4fe8-a024-19bfe499dcf7"
      },
      "source": [
        "n=int(input())\n",
        "for i in range(n,0,-1):\n",
        "  for j in range(1,i+1):\n",
        "    print(\"*\",end=\"\")\n",
        "  print(\" \")\n",
        "  "
      ],
      "execution_count": null,
      "outputs": [
        {
          "output_type": "stream",
          "name": "stdout",
          "text": [
            "5\n",
            "***** \n",
            "**** \n",
            "*** \n",
            "** \n",
            "* \n"
          ]
        }
      ]
    },
    {
      "cell_type": "code",
      "metadata": {
        "colab": {
          "base_uri": "https://localhost:8080/"
        },
        "id": "_WJ-GqYXHL6s",
        "outputId": "9774f135-3bc3-4457-a233-740f8ea25c76"
      },
      "source": [
        "n=int(input())\n",
        "a=65\n",
        "for i in range(n,0,-1):\n",
        "  for j in range(1,i+1):\n",
        "    print(chr(a),end=\"\")\n",
        "  a+=1\n",
        "  print(\" \")\n",
        "  "
      ],
      "execution_count": null,
      "outputs": [
        {
          "output_type": "stream",
          "name": "stdout",
          "text": [
            "5\n",
            "AAAAA \n",
            "BBBB \n",
            "CCC \n",
            "DD \n",
            "E \n"
          ]
        }
      ]
    },
    {
      "cell_type": "code",
      "metadata": {
        "colab": {
          "base_uri": "https://localhost:8080/"
        },
        "id": "NcWm_XbXHZkt",
        "outputId": "82f322da-5dba-41d5-ac38-b90ebb6252e8"
      },
      "source": [
        "n=int(input())\n",
        "a=65\n",
        "for i in range(n,0,-1):\n",
        "  for j in range(1,i+1):\n",
        "    print(chr(a),end=\"\")\n",
        "    a+=1\n",
        "  print(\" \")\n",
        "  "
      ],
      "execution_count": null,
      "outputs": [
        {
          "output_type": "stream",
          "name": "stdout",
          "text": [
            "5\n",
            "ABCDE \n",
            "FGHI \n",
            "JKL \n",
            "MN \n",
            "O \n"
          ]
        }
      ]
    },
    {
      "cell_type": "code",
      "metadata": {
        "colab": {
          "base_uri": "https://localhost:8080/"
        },
        "id": "flAG7WWRHge-",
        "outputId": "141a8262-ec5e-4d05-982e-9d88d559601f"
      },
      "source": [
        "n=int(input())\n",
        "\n",
        "for i in range(n,0,-1):\n",
        "  a=65\n",
        "  for j in range(1,i+1):\n",
        "    print(chr(a),end=\"\")\n",
        "    a+=1\n",
        "  print(\" \")\n",
        "  "
      ],
      "execution_count": null,
      "outputs": [
        {
          "output_type": "stream",
          "name": "stdout",
          "text": [
            "5\n",
            "ABCDE \n",
            "ABCD \n",
            "ABC \n",
            "AB \n",
            "A \n"
          ]
        }
      ]
    },
    {
      "cell_type": "code",
      "metadata": {
        "colab": {
          "base_uri": "https://localhost:8080/"
        },
        "id": "4uwuDbI5HrkA",
        "outputId": "4d0e4176-4c1a-465a-f199-e7c9da8bfa51"
      },
      "source": [
        "n=int(input())\n",
        "a=1\n",
        "for i in range(n,0,-1):\n",
        "  for j in range(1,i+1):\n",
        "    print(a,end=\" \")\n",
        "  a+=1\n",
        "  print(\" \")\n",
        "  "
      ],
      "execution_count": null,
      "outputs": [
        {
          "output_type": "stream",
          "name": "stdout",
          "text": [
            "5\n",
            "1 1 1 1 1  \n",
            "2 2 2 2  \n",
            "3 3 3  \n",
            "4 4  \n",
            "5  \n"
          ]
        }
      ]
    },
    {
      "cell_type": "code",
      "metadata": {
        "colab": {
          "base_uri": "https://localhost:8080/"
        },
        "id": "xFiXJwhyH_3c",
        "outputId": "f8b76dd7-925b-46dd-d093-d0bc1c7a17b1"
      },
      "source": [
        "n=int(input())\n",
        "a=1\n",
        "for i in range(n,0,-1):\n",
        "  for j in range(1,i+1):\n",
        "    print(a,end=\" \")\n",
        "    a+=1\n",
        "    a%=10\n",
        "  print(\" \")\n",
        "  "
      ],
      "execution_count": null,
      "outputs": [
        {
          "output_type": "stream",
          "name": "stdout",
          "text": [
            "5\n",
            "1 2 3 4 5  \n",
            "6 7 8 9  \n",
            "0 1 2  \n",
            "3 4  \n",
            "5  \n"
          ]
        }
      ]
    },
    {
      "cell_type": "code",
      "metadata": {
        "colab": {
          "base_uri": "https://localhost:8080/"
        },
        "id": "tACb7p02IUeu",
        "outputId": "71e0c277-dbc7-4fae-f496-3672924ba536"
      },
      "source": [
        "l=[1,2,3]\n",
        "sum=0\n",
        "for i in l:\n",
        "  sum+=i\n",
        "  print(\"Sum : \",sum) "
      ],
      "execution_count": null,
      "outputs": [
        {
          "output_type": "stream",
          "name": "stdout",
          "text": [
            "Sum :  1\n",
            "Sum :  3\n",
            "Sum :  6\n"
          ]
        }
      ]
    },
    {
      "cell_type": "code",
      "metadata": {
        "colab": {
          "base_uri": "https://localhost:8080/"
        },
        "id": "g2u8PpyvJWKI",
        "outputId": "0f72cd2a-f25f-45e2-8c99-6fdc6707c5bb"
      },
      "source": [
        "m,n=map(int,(input().split()))\n",
        "print(m+n)"
      ],
      "execution_count": null,
      "outputs": [
        {
          "output_type": "stream",
          "name": "stdout",
          "text": [
            "3 2\n",
            "5\n"
          ]
        }
      ]
    },
    {
      "cell_type": "code",
      "metadata": {
        "colab": {
          "base_uri": "https://localhost:8080/"
        },
        "id": "hCHa9VYjLoSj",
        "outputId": "a3ac27cf-d167-457b-8119-c14ef6bd866d"
      },
      "source": [
        "l=[1,2,3,4]\n",
        "print(tuple(l))"
      ],
      "execution_count": null,
      "outputs": [
        {
          "output_type": "stream",
          "name": "stdout",
          "text": [
            "(1, 2, 3, 4)\n"
          ]
        }
      ]
    },
    {
      "cell_type": "markdown",
      "metadata": {
        "id": "NWAqIoMThuuj"
      },
      "source": [
        "__ASSIGNMENT__"
      ]
    },
    {
      "cell_type": "markdown",
      "metadata": {
        "id": "_HHVjTUCiPQr"
      },
      "source": [
        "1> Write a Python program to match a string that contains only upper and lowercase letters, numbers, and underscores. "
      ]
    },
    {
      "cell_type": "code",
      "metadata": {
        "colab": {
          "base_uri": "https://localhost:8080/"
        },
        "id": "E3MFot14ifaJ",
        "outputId": "58b56e9c-527a-43d4-d916-e3e93ef3d245"
      },
      "source": [
        "import re\n",
        "def text_match(text):\n",
        "        patterns = '^[a-zA-Z0-9_]*$'\n",
        "        if re.search(patterns,  text):\n",
        "                return 'Found a match!'\n",
        "        else:\n",
        "                return('Not matched!')\n",
        "\n",
        "print(text_match(\"The quick brown fox jumps over the lazy dog.\"))\n",
        "print(text_match(\"Python_Exercises_1\"))\n",
        "\n"
      ],
      "execution_count": null,
      "outputs": [
        {
          "output_type": "stream",
          "name": "stdout",
          "text": [
            "Not matched!\n",
            "Found a match!\n"
          ]
        }
      ]
    },
    {
      "cell_type": "markdown",
      "metadata": {
        "id": "o0EOwcixioLD"
      },
      "source": [
        "\n",
        "2> Write a Python program to remove leading zeros from an IP address.\n",
        "\n"
      ]
    },
    {
      "cell_type": "code",
      "metadata": {
        "colab": {
          "base_uri": "https://localhost:8080/"
        },
        "id": "gMY3xENCiwUJ",
        "outputId": "a224b4f1-8681-4ff2-9a3d-05fea909038b"
      },
      "source": [
        "import re\n",
        "ip = \"216.08.094.196\"\n",
        "string = re.sub('\\.[0]*', '.', ip)\n",
        "print(string)\n"
      ],
      "execution_count": null,
      "outputs": [
        {
          "output_type": "stream",
          "name": "stdout",
          "text": [
            "216.8.94.196\n"
          ]
        }
      ]
    },
    {
      "cell_type": "markdown",
      "metadata": {
        "id": "gKQ1Mazli9lI"
      },
      "source": [
        "3> Write a Python program to convert a date of yyyy-mm-dd format to dd-mm-yyyy format."
      ]
    },
    {
      "cell_type": "code",
      "metadata": {
        "colab": {
          "base_uri": "https://localhost:8080/"
        },
        "id": "CUD9ehxLjBEb",
        "outputId": "4f16cb9a-b615-4fce-8c21-d43ad4f070bf"
      },
      "source": [
        "import re\n",
        "def change_date_format(dt):\n",
        "        return re.sub(r'(\\d{4})-(\\d{1,2})-(\\d{1,2})', '\\\\3-\\\\2-\\\\1', dt)\n",
        "dt1 = \"2026-01-02\"\n",
        "print(\"Original date in YYY-MM-DD Format: \",dt1)\n",
        "print(\"New date in DD-MM-YYYY Format: \",change_date_format(dt1))\n"
      ],
      "execution_count": null,
      "outputs": [
        {
          "output_type": "stream",
          "name": "stdout",
          "text": [
            "Original date in YYY-MM-DD Format:  2026-01-02\n",
            "New date in DD-MM-YYYY Format:  02-01-2026\n"
          ]
        }
      ]
    },
    {
      "cell_type": "markdown",
      "metadata": {
        "id": "8W_TjIRNjLqi"
      },
      "source": [
        "4> Write a Python program to find all words starting with 'a' or 'e' in a given string"
      ]
    },
    {
      "cell_type": "code",
      "metadata": {
        "colab": {
          "base_uri": "https://localhost:8080/"
        },
        "id": "nBcmaNQNjNYt",
        "outputId": "bcfee642-05d3-46d7-93fd-05757fa761b1"
      },
      "source": [
        "import re\n",
        "\n",
        "text = \"The following example creates\"\n",
        "list = re.findall(\"[ae]\\w+\", text)\n",
        "print(list)\n"
      ],
      "execution_count": null,
      "outputs": [
        {
          "output_type": "stream",
          "name": "stdout",
          "text": [
            "['example', 'eates']\n"
          ]
        }
      ]
    },
    {
      "cell_type": "markdown",
      "metadata": {
        "id": "XBM6MiDKjU9y"
      },
      "source": [
        "5>  Write a Python program to abbreviate 'Road' as 'Rd.' in a given string"
      ]
    },
    {
      "cell_type": "code",
      "metadata": {
        "colab": {
          "base_uri": "https://localhost:8080/"
        },
        "id": "NqYaB7KljYyi",
        "outputId": "577a04c7-c79c-412a-ce18-0a7dada6d568"
      },
      "source": [
        "import re\n",
        "street = '21 Ramkrishna Road'\n",
        "print(re.sub('Road$', 'Rd.', street))\n"
      ],
      "execution_count": null,
      "outputs": [
        {
          "output_type": "stream",
          "name": "stdout",
          "text": [
            "21 Ramkrishna Rd.\n"
          ]
        }
      ]
    }
  ]
}