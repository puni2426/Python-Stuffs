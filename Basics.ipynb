{
  "nbformat": 4,
  "nbformat_minor": 0,
  "metadata": {
    "colab": {
      "name": "Pre Placement",
      "provenance": [],
      "collapsed_sections": [],
      "authorship_tag": "ABX9TyME/YTjp+DaZCWU8UzcqpQh"
    },
    "kernelspec": {
      "name": "python3",
      "display_name": "Python 3"
    }
  },
  "cells": [
    {
      "cell_type": "markdown",
      "metadata": {
        "id": "ALoBLjf2aTNr"
      },
      "source": [
        "__Printing the character of the ASCII value__"
      ]
    },
    {
      "cell_type": "code",
      "metadata": {
        "colab": {
          "base_uri": "https://localhost:8080/"
        },
        "id": "MbfPFrThW7gB",
        "outputId": "eac1e68c-8be5-4ed5-bb76-92e947aefb84"
      },
      "source": [
        "s=65\n",
        "print (chr(s))"
      ],
      "execution_count": null,
      "outputs": [
        {
          "output_type": "stream",
          "text": [
            "A\n"
          ],
          "name": "stdout"
        }
      ]
    },
    {
      "cell_type": "code",
      "metadata": {
        "colab": {
          "base_uri": "https://localhost:8080/"
        },
        "id": "EHZ3DWmLXKPP",
        "outputId": "4cd87b6f-e289-4d48-c63f-b2e925fc1a95"
      },
      "source": [
        " s=\"a\"\n",
        "print (ord(s))"
      ],
      "execution_count": null,
      "outputs": [
        {
          "output_type": "stream",
          "text": [
            "97\n"
          ],
          "name": "stdout"
        }
      ]
    },
    {
      "cell_type": "markdown",
      "metadata": {
        "id": "0ljuPONyaeGs"
      },
      "source": [
        "__Sorting__"
      ]
    },
    {
      "cell_type": "code",
      "metadata": {
        "colab": {
          "base_uri": "https://localhost:8080/"
        },
        "id": "cfCSes5ipfGV",
        "outputId": "8b8a2525-0231-437f-84d2-aaf0115e9cb7"
      },
      "source": [
        "a=[10,5,7,88,19]\n",
        "s=sorted(a)\n",
        "print(s[2])\n",
        "print(s)"
      ],
      "execution_count": null,
      "outputs": [
        {
          "output_type": "stream",
          "text": [
            "10\n",
            "[5, 7, 10, 19, 88]\n"
          ],
          "name": "stdout"
        }
      ]
    },
    {
      "cell_type": "code",
      "metadata": {
        "colab": {
          "base_uri": "https://localhost:8080/"
        },
        "id": "eO1jO2r2qm_u",
        "outputId": "96a2ab44-e16a-4fdd-a91f-6629353be05a"
      },
      "source": [
        "a=[10,5,7,88,19]\n",
        "s=sorted(a)\n",
        " \n",
        "b=int(input(\"enter index\\t\"))\n",
        "for i in s:  \n",
        "  if i==s[b]:  \n",
        "    print(i)\n",
        "print(s)"
      ],
      "execution_count": null,
      "outputs": [
        {
          "output_type": "stream",
          "text": [
            "enter index\t2\n",
            "10\n",
            "[5, 7, 10, 19, 88]\n"
          ],
          "name": "stdout"
        }
      ]
    },
    {
      "cell_type": "markdown",
      "metadata": {
        "id": "LqJQODHSZLGN"
      },
      "source": [
        "__Digital Sum__"
      ]
    },
    {
      "cell_type": "code",
      "metadata": {
        "colab": {
          "base_uri": "https://localhost:8080/"
        },
        "id": "GK7b49Jtu-Zg",
        "outputId": "a7ef6ee1-3398-43bb-e3eb-99462c9aa72b"
      },
      "source": [
        "n=int(input ())\n",
        "print(\"9\" if (n%9==0) else n%9)"
      ],
      "execution_count": 2,
      "outputs": [
        {
          "output_type": "stream",
          "text": [
            "12345\n",
            "6\n"
          ],
          "name": "stdout"
        }
      ]
    },
    {
      "cell_type": "markdown",
      "metadata": {
        "id": "-5gzKnlzZ2Ov"
      },
      "source": [
        "__Hello World with tab__"
      ]
    },
    {
      "cell_type": "code",
      "metadata": {
        "colab": {
          "base_uri": "https://localhost:8080/"
        },
        "id": "9BokJ11lZiCe",
        "outputId": "fefbdc05-1b12-4dd1-f559-68dd2eb808be"
      },
      "source": [
        "print(\"Hello World\\tHello World\")"
      ],
      "execution_count": 3,
      "outputs": [
        {
          "output_type": "stream",
          "text": [
            "Hello World\tHello World\n"
          ],
          "name": "stdout"
        }
      ]
    },
    {
      "cell_type": "markdown",
      "metadata": {
        "id": "-NIFw3AWZ-sW"
      },
      "source": [
        "__Hello World with new line__"
      ]
    },
    {
      "cell_type": "code",
      "metadata": {
        "colab": {
          "base_uri": "https://localhost:8080/"
        },
        "id": "Q48ytstmZy46",
        "outputId": "ec2a6bbe-f55c-4b38-e198-06b5baa735b8"
      },
      "source": [
        "print(\"Hello World\\nHello World\")"
      ],
      "execution_count": 4,
      "outputs": [
        {
          "output_type": "stream",
          "text": [
            "Hello World\n",
            "Hello World\n"
          ],
          "name": "stdout"
        }
      ]
    },
    {
      "cell_type": "markdown",
      "metadata": {
        "id": "WI5dzWrnlach"
      },
      "source": [
        "__Three idiots__"
      ]
    },
    {
      "cell_type": "code",
      "metadata": {
        "colab": {
          "base_uri": "https://localhost:8080/"
        },
        "id": "XpTH6RGslff0",
        "outputId": "8f158990-9529-44a5-eb4a-76c84d215ec5"
      },
      "source": [
        "x1=int(input())\n",
        "y1=int(input ())\n",
        "x2=int(input())\n",
        "y2=int(input ())\n",
        "x=(x1+x2)/2.0\n",
        "y=(y1+y2)/2.0\n",
        "print (\"Binoy's house is located at ({},{})\".format(x,y))"
      ],
      "execution_count": 5,
      "outputs": [
        {
          "output_type": "stream",
          "text": [
            "3\n",
            "4\n",
            "5\n",
            "6\n",
            "Binoy's house is located at (4.0,5.0)\n"
          ],
          "name": "stdout"
        }
      ]
    },
    {
      "cell_type": "markdown",
      "metadata": {
        "id": "s7cRi4mRoA8C"
      },
      "source": [
        "__<h3>Alice in wonderland__\n",
        " \n",
        "__Alice was bored that day,so she was sitting on the riverbank .Suddenly she notices a talking, White Rabbit with a pocket watch .It ran fast,and she followed it, down a rabbit hole .She fell into the hole and found a magical wonderland with dark trees, beautiful flowers.She found many ways numbered from 1,2,3,........18.she was confused which is the right way that will lead her to her home. She found a cute bird, standing in one of the tree. Alice asked the bird the way to go back to her home.The bird said a two digit number( say 23 ) and asked her to find the sum of its digits (2+3=5) and that numbered way will lead her to her home.Alice was already confused, so pls help Alice in finding the route to her home....__"
      ]
    },
    {
      "cell_type": "code",
      "metadata": {
        "colab": {
          "base_uri": "https://localhost:8080/"
        },
        "id": "iguatp_Qlniy",
        "outputId": "7a50daf2-820b-4dd7-a471-e833a49c3c01"
      },
      "source": [
        "x=int(input ())\n",
        "a=x%10\n",
        "c=x/10\n",
        "print (\"%d\"%(a+c))"
      ],
      "execution_count": 7,
      "outputs": [
        {
          "output_type": "stream",
          "text": [
            "45\n",
            "9\n"
          ],
          "name": "stdout"
        }
      ]
    },
    {
      "cell_type": "markdown",
      "metadata": {
        "id": "dEAzE7Uzsf8P"
      },
      "source": [
        "__<h3>Profit Calculation__\n",
        " \n",
        "__Each Sunday, a newspaper agency sells x copies of a certain newspaper for Rs.a per copy. The cost to the agency of each newspaper is Rs.b . The agency pays a fixed cost for storage, delivery and so on of Rs.100 per Sunday. The newspaper agency wants to calculate the profit obtained on sundays. Can you please help them out by writing a python program to compute the profit given x, a and b.__"
      ]
    },
    {
      "cell_type": "code",
      "metadata": {
        "colab": {
          "base_uri": "https://localhost:8080/"
        },
        "id": "lyQc0RyGs1GP",
        "outputId": "c069a82a-8e5e-4a3e-8c36-2d971c539594"
      },
      "source": [
        " \n",
        "x=int(input ())\n",
        "a=int(input ())\n",
        "b=int(input ())\n",
        "y=x*a-(100+x*b)\n",
        "print (\"The profit obtained is Rs.\",y)"
      ],
      "execution_count": 8,
      "outputs": [
        {
          "output_type": "stream",
          "text": [
            "2\n",
            "3\n",
            "4\n",
            "The profit obtained is Rs. -102\n"
          ],
          "name": "stdout"
        }
      ]
    },
    {
      "cell_type": "markdown",
      "metadata": {
        "id": "MWfjJXDuurfB"
      },
      "source": [
        "__Four musketeers__\n",
        " \n",
        "__Dhoni joined the group of 3 Musketeers and now their group is called four Musketeers. Meanwhile, Dhoni also moved to a new house in the same locality nearby to the other three. Currently, the houses of Sachin, Dravid and Ganguly are located in the shape of a triangle. When the three musketeers asked Dhoni about the location of his house, he said that his house is equidistant from the houses of the other 3. Can you please help them find out the location of the house? Given the 3 locations {(a1,b1), (a2,b2) and (a3,b3)} of a triangle, write a program to determine the point which is equidistant from all the 3 points.__"
      ]
    },
    {
      "cell_type": "code",
      "metadata": {
        "colab": {
          "base_uri": "https://localhost:8080/"
        },
        "id": "eA4MXGaEu2rN",
        "outputId": "01bda3f4-9823-4484-df9a-cb439cf0a90b"
      },
      "source": [
        "a1=int(input())\n",
        "b1=int(input ())\n",
        "a2=int(input())\n",
        "b2=int(input ())\n",
        "a3=int(input())\n",
        "b3=int(input ())\n",
        "x=(a1+a2+a3)/3.0\n",
        "y=(b1+b2+b3)/3.0\n",
        "print(x)\n",
        "print (y)"
      ],
      "execution_count": 9,
      "outputs": [
        {
          "output_type": "stream",
          "text": [
            "1\n",
            "2\n",
            "3\n",
            "4\n",
            "5\n",
            "6\n",
            "3.0\n",
            "4.0\n"
          ],
          "name": "stdout"
        }
      ]
    }
  ]
}