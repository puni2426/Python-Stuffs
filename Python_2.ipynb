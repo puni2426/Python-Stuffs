{
  "nbformat": 4,
  "nbformat_minor": 0,
  "metadata": {
    "colab": {
      "name": "Python 2.ipynb",
      "provenance": [],
      "collapsed_sections": [],
      "authorship_tag": "ABX9TyNHjF8PyexzDiYC5qLSZPrU"
    },
    "kernelspec": {
      "name": "python3",
      "display_name": "Python 3"
    },
    "language_info": {
      "name": "python"
    }
  },
  "cells": [
    {
      "cell_type": "markdown",
      "metadata": {
        "id": "46DhDq2AN3ST"
      },
      "source": [
        "__<h1>Decision Making__"
      ]
    },
    {
      "cell_type": "markdown",
      "metadata": {
        "id": "Ys32OPpUN-RA"
      },
      "source": [
        " __compare two numbers__\n",
        " \n",
        "Get two integers x and y from the user and write a python program to relate 2 integers as equal to, less than or greater than."
      ]
    },
    {
      "cell_type": "code",
      "metadata": {
        "colab": {
          "base_uri": "https://localhost:8080/"
        },
        "id": "cipiyc4iM6dF",
        "outputId": "0f25c1d5-db3c-4f2b-b7ec-db7371bf29a4"
      },
      "source": [
        "x=int(input ())\n",
        "y=int(input ())\n",
        "if x > y:\n",
        "  print (x,\"greater than\",y)\n",
        "elif x==y:\n",
        "  print (x,\"equal to\",y)\n",
        "else:\n",
        "  print(x,\"less than\",y)"
      ],
      "execution_count": 1,
      "outputs": [
        {
          "output_type": "stream",
          "text": [
            "1\n",
            "11\n",
            "1 less than 11\n"
          ],
          "name": "stdout"
        }
      ]
    },
    {
      "cell_type": "markdown",
      "metadata": {
        "id": "pfxjICGiOQ8d"
      },
      "source": [
        " __Checking Alphabets__\n",
        " \n",
        "Write a python program to check whether the given character is vowel or consonant."
      ]
    },
    {
      "cell_type": "code",
      "metadata": {
        "colab": {
          "base_uri": "https://localhost:8080/"
        },
        "id": "psT50MBTOiMy",
        "outputId": "cf726e4a-aac2-4745-ff2a-cc0ad486e357"
      },
      "source": [
        "ch = input()\n",
        "if((ch>='a'and ch<='z') or (ch>='A' and ch<='Z')):\n",
        "  if(ch=='a' or ch=='e' or ch=='i'or ch=='o'or ch=='u' or ch=='A' or ch=='E' or ch=='I' or ch=='O' or ch=='U'):\n",
        "    print(\"Vowel\")\n",
        "  else:\n",
        "    print(\"Consonant\")\n",
        "    \n",
        "else:\n",
        "  print(\"Not an alphabet\")"
      ],
      "execution_count": 2,
      "outputs": [
        {
          "output_type": "stream",
          "text": [
            "A\n",
            "Vowel\n"
          ],
          "name": "stdout"
        }
      ]
    },
    {
      "cell_type": "markdown",
      "metadata": {
        "id": "i_QF9PqvOshz"
      },
      "source": [
        " __Profit or Loss__\n",
        " \n",
        "A fruit seller buys a dozen of banana at Rs.X. He sells 1 banana at Rs.Y. Write a python program to determine the profit or loss in Rs. for the fruitseller."
      ]
    },
    {
      "cell_type": "code",
      "metadata": {
        "colab": {
          "base_uri": "https://localhost:8080/"
        },
        "id": "c-syPSRbPHAe",
        "outputId": "750fe2b8-600a-4b08-c060-068ecb62e185"
      },
      "source": [
        "x = int(input())\n",
        "y = int(input())\n",
        "diff = (x - (12*y))\n",
        "SP = 12 * y\n",
        "if(x < SP):\n",
        "  print(\"Profit : Rs.%d\"%((12*y) - x))\n",
        "elif(x > SP):\n",
        "  print(\"Loss : Rs.%d\"%(diff))\n",
        "else:\n",
        "  print(\"No profit nor loss\")"
      ],
      "execution_count": 3,
      "outputs": [
        {
          "output_type": "stream",
          "text": [
            "60\n",
            "4\n",
            "Loss : Rs.12\n"
          ],
          "name": "stdout"
        }
      ]
    },
    {
      "cell_type": "markdown",
      "metadata": {
        "id": "Jku9g1cWPnTD"
      },
      "source": [
        " __Fee Collection__\n",
        " \n",
        "Write a python program to determine the fee amount to be collected from a student.\n",
        "Refer the table below for fee details."
      ]
    },
    {
      "cell_type": "code",
      "metadata": {
        "colab": {
          "base_uri": "https://localhost:8080/"
        },
        "id": "mD9Zxq3PS8gs",
        "outputId": "eaab69b3-f344-4fd1-8e60-7e0d1268a9e6"
      },
      "source": [
        "st=input()\n",
        "tf=int(input())\n",
        "bf=int(input())\n",
        "hf=int(input())\n",
        "t=(150*tf)/100\n",
        "if st=='MSDS':\n",
        "    print(tf+bf)\n",
        "elif st==\"MSH\":\n",
        "    print(tf+hf)\n",
        "elif st=='MGSDS':\n",
        "    print(t+bf)\n",
        "elif st=='MGSH':\n",
        "    print(t+hf)"
      ],
      "execution_count": 9,
      "outputs": [
        {
          "output_type": "stream",
          "text": [
            "MSDS\n",
            "80000\n",
            "70\n",
            "70000\n",
            "80070\n"
          ],
          "name": "stdout"
        }
      ]
    },
    {
      "cell_type": "markdown",
      "metadata": {
        "id": "Jr1N5B6GTYEs"
      },
      "source": [
        "__Age Detector__\n",
        " \n",
        "Ask a user for their birth year encoded as two digits (like \"62\") and for the current year, also encoded as two digits (like \"99\"). Write a python program to find the users current age in years."
      ]
    },
    {
      "cell_type": "code",
      "metadata": {
        "colab": {
          "base_uri": "https://localhost:8080/"
        },
        "id": "8FJx4SN9TclQ",
        "outputId": "1af57014-f33a-4b98-fd37-a6d692098750"
      },
      "source": [
        "n = int(input())\n",
        "n1 = int(input())\n",
        "if(n1 == 0):\n",
        " print(100-n)\n",
        "elif(n < n1):\n",
        "  print(n1-n)\n",
        "elif(n1<n):\n",
        " n1 = n1 + 100\n",
        " print(n1-n)"
      ],
      "execution_count": 11,
      "outputs": [
        {
          "output_type": "stream",
          "text": [
            "50\n",
            "21\n",
            "71\n"
          ],
          "name": "stdout"
        }
      ]
    },
    {
      "cell_type": "markdown",
      "metadata": {
        "id": "49QJ2Nn2UgcL"
      },
      "source": [
        "__<h1>Regex Expression__"
      ]
    },
    {
      "cell_type": "markdown",
      "metadata": {
        "id": "gDtbjMqFUp8o"
      },
      "source": [
        "__Covert the Number__\n",
        " \n",
        "You are provided with a 10 digit phone number. You are requested to convert this 10 digit number to US format using RegEx in python.\n",
        " \n",
        "__Sample Input:__\n",
        " \n",
        "321-963-0612\n",
        " \n",
        "__Sample Output:__\n",
        " \n",
        "(321) 963-0612"
      ]
    },
    {
      "cell_type": "code",
      "metadata": {
        "colab": {
          "base_uri": "https://localhost:8080/"
        },
        "id": "UwAQiuHeU2V2",
        "outputId": "a06566ea-8c64-4143-80a6-453908ebd327"
      },
      "source": [
        "import re  \n",
        "def convert_phone_number(phone): \n",
        "  num = re.sub(r'(?<!\\S)(\\d{3})-', r'(\\1) ', phone)  \n",
        "  return num \n",
        "num = input()\n",
        "print(convert_phone_number(num))"
      ],
      "execution_count": 13,
      "outputs": [
        {
          "output_type": "stream",
          "text": [
            "123-456-7890\n",
            "(123) 456-7890\n"
          ],
          "name": "stdout"
        }
      ]
    },
    {
      "cell_type": "markdown",
      "metadata": {
        "id": "GhZQWm6fU_FQ"
      },
      "source": [
        "__Search a String__\n",
        " \n",
        "Asgard is in danger. Thor and Loki are looking for clues to save their world. Luckily they got a part of the clue. You are provided with 2 strings. The first string is the actual clue and the second string is the part of a clue that they have. Help Thor and Loki by searching the second string occurrence in the first string irrespective of cases using Regex in Python.\n",
        " \n",
        "__Sample Input:__\n",
        " \n",
        "I love Asgard\n",
        " \n",
        "asgard\n",
        " \n",
        "__Sample Output:__\n",
        " \n",
        "String Found"
      ]
    },
    {
      "cell_type": "code",
      "metadata": {
        "colab": {
          "base_uri": "https://localhost:8080/"
        },
        "id": "Eyc2qriqVPsY",
        "outputId": "be063b55-fd46-49de-e608-cfa3e74661f5"
      },
      "source": [
        "#Search a string (Ignore case)\n",
        "import re\n",
        "string = input()\n",
        "pattern = re.compile(input(),re.IGNORECASE)\n",
        "match = re.search(pattern, string)\n",
        "if match:\n",
        "  print(\"String Found\")\n",
        "else:\n",
        "  print(\"String Not Found\")"
      ],
      "execution_count": 14,
      "outputs": [
        {
          "output_type": "stream",
          "text": [
            "I love Python\n",
            "python\n",
            "String Found\n"
          ],
          "name": "stdout"
        }
      ]
    },
    {
      "cell_type": "markdown",
      "metadata": {
        "id": "jdnv1G6sVj6K"
      },
      "source": [
        "__Extract numbers__\n",
        " \n",
        "You are provided with an URL. You are required to extract the digits present in the URL. Use Python - RegEx to solve this problem.\n",
        " \n",
        "__Sample Input:__\n",
        " \n",
        "https://www.google.com/search?q=google&oq=google&aqs=chrome..69i57j69i60l4j69i65l2j69i60.4365j0j4&sourceid=chrome&ie=UTF-8\n",
        " \n",
        "__Sample Output:__\n",
        " \n",
        "['69', '57', '69', '60', '4', '69', '65', '2', '69', '60', '4365', '0', '4', '8']"
      ]
    },
    {
      "cell_type": "code",
      "metadata": {
        "colab": {
          "base_uri": "https://localhost:8080/"
        },
        "id": "XH0WpRLKVqeV",
        "outputId": "2284b49c-758e-4436-db9e-89833b5246b7"
      },
      "source": [
        "import re\n",
        "string = input()\n",
        "pattern = '\\d+'\n",
        "result = re.findall(pattern, string) \n",
        "print(result)"
      ],
      "execution_count": 15,
      "outputs": [
        {
          "output_type": "stream",
          "text": [
            "https://www.google.com/search?q=google&oq=google&aqs=chrome..69i57j69i60l4j69i65l2j69i60.4365j0j4&sourceid=chrome&ie=UTF-8\n",
            "['69', '57', '69', '60', '4', '69', '65', '2', '69', '60', '4365', '0', '4', '8']\n"
          ],
          "name": "stdout"
        }
      ]
    },
    {
      "cell_type": "markdown",
      "metadata": {
        "id": "4vFBPeqpV9Fx"
      },
      "source": [
        "__Don't share Mobile number__\n",
        " \n",
        "In a college mobile phones are restricted. No one should share their mobile number with anyone. But still, several students are sharing their mobile numbers through college chat messenger not directly but in a tricky way. Information from intelligence says that students are sharing their number in between a huge sentence by two 3 digit numbers followed by two 2 digit numbers separated by any single character. The college want's to find the culprits. Write a program to extract mobile numbers in the mentioned format. See the sample input for a better understanding.\n",
        " \n",
        " \n",
        " \n",
        "__Sample Input:__\n",
        " \n",
        "Hi I am Vishwa and I can not 979s876m99m00 number\n",
        " \n",
        "__Sample Output:__\n",
        " \n",
        "Number Shared"
      ]
    },
    {
      "cell_type": "code",
      "metadata": {
        "colab": {
          "base_uri": "https://localhost:8080/"
        },
        "id": "69iSr_9VWCvc",
        "outputId": "11a518de-008a-4390-82b2-02dfc213cee7"
      },
      "source": [
        "import re\n",
        "string = input()\n",
        "string +=' '\n",
        "pattern = '(\\d{3}).(\\d{3}).(\\d{2}).(\\d{2})'\n",
        "match = re.search(pattern, string) \n",
        "if match:\n",
        "  print(\"Number Shared\")\n",
        "else:\n",
        "  print(\"Number Not Shared\")"
      ],
      "execution_count": 16,
      "outputs": [
        {
          "output_type": "stream",
          "text": [
            "I ❤️ python\n",
            "Number Not Shared\n"
          ],
          "name": "stdout"
        }
      ]
    }
  ]
}